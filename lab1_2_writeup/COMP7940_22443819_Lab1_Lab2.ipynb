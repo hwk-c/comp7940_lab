{
 "cells": [
  {
   "cell_type": "markdown",
   "id": "6592bcaf-f994-4b75-8eaf-91858ee6a15f",
   "metadata": {},
   "source": [
    "### Lab 1 Exercise"
   ]
  },
  {
   "cell_type": "code",
   "execution_count": 11,
   "id": "9c687180-193e-4daa-acb5-c2af41a2ee94",
   "metadata": {},
   "outputs": [
    {
     "name": "stdout",
     "output_type": "stream",
     "text": [
      "1\n",
      "7\n",
      "73\n",
      "103\n",
      "511\n",
      "721\n",
      "7519\n",
      "52633\n"
     ]
    }
   ],
   "source": [
    "# Find the all factors of x using a loop and the operator %\n",
    "# % means find remainder, for example 10 % 2 = 0; 10% 3 = 1\n",
    "x = 52633\n",
    "for i in range(x+1):\n",
    "# your code here\n",
    "    if (x % (i+1) == 0):\n",
    "        print(i+1)"
   ]
  },
  {
   "cell_type": "code",
   "execution_count": 12,
   "id": "963f8ee5-835c-4db0-ba2c-e5309d36aaa1",
   "metadata": {},
   "outputs": [
    {
     "name": "stdout",
     "output_type": "stream",
     "text": [
      "Factors of 52633 are: [1, 7, 73, 103, 511, 721, 7519, 52633]\n"
     ]
    }
   ],
   "source": [
    "# Write a function that prints all factors of the given parameter x\n",
    "def print_factors(x):\n",
    "    factors = []\n",
    "    for i in range(1, x + 1):\n",
    "        if x % i == 0:\n",
    "            factors.append(i)\n",
    "    print(\"Factors of\", x, \"are:\", factors)\n",
    "\n",
    "print_factors(52633)"
   ]
  },
  {
   "cell_type": "code",
   "execution_count": 13,
   "id": "2676f4bf-7045-4f0e-808d-af7d8e4a7926",
   "metadata": {},
   "outputs": [
    {
     "name": "stdout",
     "output_type": "stream",
     "text": [
      "Factors of 52633 are: [1, 7, 73, 103, 511, 721, 7519, 52633]\n",
      "Factors of 8137 are: [1, 79, 103, 8137]\n",
      "Factors of 1024 are: [1, 2, 4, 8, 16, 32, 64, 128, 256, 512, 1024]\n",
      "Factors of 999 are: [1, 3, 9, 27, 37, 111, 333, 999]\n"
     ]
    }
   ],
   "source": [
    "# Write a program that be able to find all factors of the numbers in the list l\n",
    "l = [52633, 8137, 1024, 999]\n",
    "# your code here\n",
    "for num in l:\n",
    "    print_factors(num)"
   ]
  },
  {
   "cell_type": "markdown",
   "id": "810fd428-a6e5-4b5b-91bb-9be6c0459db2",
   "metadata": {},
   "source": [
    "### Lab 2 Exercise"
   ]
  },
  {
   "cell_type": "code",
   "execution_count": 15,
   "id": "12d69a9f-5e75-4d1f-a919-3c762b57ede9",
   "metadata": {},
   "outputs": [
    {
     "name": "stdout",
     "output_type": "stream",
     "text": [
      "{'name': 'blogger', 'users': [['admins', '1', '2', '3'], ['editors', '4', '5', '6']]}\n",
      "parse ['admins', '1', '2', '3']\n",
      "parse ['editors', '4', '5', '6']\n",
      "y\n",
      "[1, 2, 3]\n",
      "z\n",
      "[10, 2, 3]\n",
      "sum = 10; i =10\n",
      "sum = 12; i =2\n",
      "sum = 15; i =3\n",
      "Total = 15\n"
     ]
    }
   ],
   "source": [
    "import json\n",
    "import requests\n",
    "site=\"https://api.npoint.io/2b57052af2060e84dc86\"\n",
    "# Write the functions convert_number and replace_number here\n",
    "# Follow the logic below.\n",
    "# Trying to load JSON into text\n",
    "\n",
    "def convert_number(lst):\n",
    "    # Convert all elements (except the first one) into numbers and return as a list\n",
    "    return [int(i) for i in lst[1:]]\n",
    "\n",
    "def replace_number(number_list, being_replace, to_replace):\n",
    "    # Replace all occurrences of 'being_replace' with 'to_replace' in the list\n",
    "    return [to_replace if i == being_replace else i for i in number_list]\n",
    "\n",
    "r = requests.get(site)\n",
    "print(r.json())\n",
    "text = r.json()['users']\n",
    "# Debug\n",
    "for i in text:\n",
    "    print(\"parse \" + str(i))\n",
    "# call the function convert_number\n",
    "# convert all elements (except the first one) into number and return it as a list\n",
    "y = convert_number(text[0])\n",
    "\n",
    "print(\"y\")\n",
    "print(y)\n",
    "# call the function replace_number\n",
    "# replace all number 1 by the number 10 in the function\n",
    "z = replace_number(number_list = y, being_replace = 1, to_replace =10)\n",
    "print(\"z\")\n",
    "print(z)\n",
    "sum = 0\n",
    "\n",
    "for i in z:\n",
    "    sum = sum + i\n",
    "    print(\"sum = \" + str(sum) + \"; i =\" + str(i))\n",
    "    \n",
    "print (\"Total = \" + str(sum))"
   ]
  },
  {
   "cell_type": "markdown",
   "id": "d725bdfe-b198-4030-8d9e-6ae9a5d5c6ff",
   "metadata": {},
   "source": [
    "#### _Write ups_"
   ]
  },
  {
   "cell_type": "markdown",
   "id": "498eccf7-2329-444c-8805-10fd77885fa3",
   "metadata": {},
   "source": [
    "#### 1. What is the purpose of return in Python?\n",
    "The return statement is used to end the execution of a function and return a value to the caller. When a function is called, it may perform certain computations and produce a result. The return statement allows the function to send this result back to the code that called the function."
   ]
  },
  {
   "cell_type": "markdown",
   "id": "df9e2929-37a3-41d7-b417-bb28f6f5e6e9",
   "metadata": {},
   "source": [
    "#### 2. Where can we define a Python function parameter? How can we use it? \n",
    "In Python, function parameters are defined within the parentheses of a function's declaration.\n",
    "\n",
    "As an example:"
   ]
  },
  {
   "cell_type": "code",
   "execution_count": 4,
   "id": "d5a1b3bb-bb4d-4098-ac6f-04de30d9b530",
   "metadata": {},
   "outputs": [
    {
     "name": "stdout",
     "output_type": "stream",
     "text": [
      "Hello, Christopher!\n"
     ]
    }
   ],
   "source": [
    "def greet(name):\n",
    "    print(f\"Hello, {name}!\")\n",
    "\n",
    "# Calling the function with a specific argument\n",
    "greet(\"Christopher\")  # Output: Hello, Alice!"
   ]
  },
  {
   "cell_type": "markdown",
   "id": "e298c978-45b8-4ff2-ba6a-26794c00b8e8",
   "metadata": {},
   "source": [
    "#### 3. Write a Python function that can reverse a string."
   ]
  },
  {
   "cell_type": "code",
   "execution_count": 7,
   "id": "4ca18a93-990d-49fa-bcfd-e174a09b6506",
   "metadata": {},
   "outputs": [],
   "source": [
    "def rev_string(str):\n",
    "    return str[::-1]"
   ]
  },
  {
   "cell_type": "code",
   "execution_count": 8,
   "id": "171cc389-f770-456b-b825-3eca6d1bddd7",
   "metadata": {},
   "outputs": [
    {
     "data": {
      "text/plain": [
       "'rehpotsirhC'"
      ]
     },
     "execution_count": 8,
     "metadata": {},
     "output_type": "execute_result"
    }
   ],
   "source": [
    "rev_string(\"Christopher\")"
   ]
  },
  {
   "cell_type": "markdown",
   "id": "606ab20d-ec3d-43d1-9c3b-ebbb685f0017",
   "metadata": {},
   "source": [
    "#### 4. What is a conflict in Git? What is the cause of such conflict?\n",
    "In Git, a conflict occurs when there are conflicting changes made to the same part of a file or files within a repository. Conflicts typically happen during a process called \"merging\" when Git tries to combine changes from different branches, possibly due to the same code are being edited by different parties, accidentally or deliberately amend, add or delete some lines, or moved their location of line."
   ]
  },
  {
   "attachments": {
    "418576f3-0dbc-4e51-864a-e80143408e75.png": {
     "image/png": "[encoded data removed]"
    }
   },
   "cell_type": "markdown",
   "id": "47587ef4-f60e-4d08-a65d-2a8f7f08968e",
   "metadata": {},
   "source": [
    "#### 5. How can we resolve a conflict?\n",
    "\n",
    "To resolve a conflict in Git, the user may need to review the conflicting file(s) and decide which changes are kept or removed. Git would indicate the conflicting regions by conflict markers (<<<<<<<, =======, and >>>>>>>). The contents between <<<<<<< and ======= are the changes made by the user while the contents between ======= and >>>>>>> are the changes from the remote repository.\n",
    "After the user decides the desired changes and removes the conflict markers, he/she should commit the changes and push them to the remote repository. Then, conflicts are resolved.\n",
    "\n",
    "![image.png](attachment:418576f3-0dbc-4e51-864a-e80143408e75.png)"
   ]
  },
  {
   "cell_type": "markdown",
   "id": "dc4ed316-ea75-49cc-aa8a-8c3fa40cb8a1",
   "metadata": {},
   "source": [
    "#### 6. What practices can be done to avoid having a conflict?\n",
    "\n",
    "To avoid conflict in git, the below can be done:\n",
    "\n",
    "1) Frequent Pulls: Regularly pull changes from the remote repository to keep your local copy up-to-date.\n",
    "2) Better communication: Coordinate with your team to avoid working on the same files concurrently.\n",
    "3) Branching Strategy: Isolate your work in feature branches when working on the same product, making it easier to manage conflicts during merges."
   ]
  },
  {
   "cell_type": "code",
   "execution_count": null,
   "id": "9f790a6d-c919-4099-af1f-ecbceedbe5af",
   "metadata": {},
   "outputs": [],
   "source": []
  }
 ],
 "metadata": {
  "kernelspec": {
   "display_name": "Python 3 (ipykernel)",
   "language": "python",
   "name": "python3"
  },
  "language_info": {
   "codemirror_mode": {
    "name": "ipython",
    "version": 3
   },
   "file_extension": ".py",
   "mimetype": "text/x-python",
   "name": "python",
   "nbconvert_exporter": "python",
   "pygments_lexer": "ipython3",
   "version": "3.10.13"
  }
 },
 "nbformat": 4,
 "nbformat_minor": 5
}
